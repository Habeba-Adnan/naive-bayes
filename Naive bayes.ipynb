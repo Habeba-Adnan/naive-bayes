{
 "cells": [
  {
   "cell_type": "code",
   "execution_count": 2,
   "id": "4a2548db",
   "metadata": {},
   "outputs": [],
   "source": [
    "import csv\n",
    "import numpy"
   ]
  },
  {
   "cell_type": "code",
   "execution_count": 4,
   "id": "a013ab5e",
   "metadata": {},
   "outputs": [],
   "source": []
  },
  {
   "cell_type": "code",
   "execution_count": 4,
   "id": "13e99a8e",
   "metadata": {},
   "outputs": [
    {
     "name": "stdout",
     "output_type": "stream",
     "text": [
      "<_csv.reader object at 0x000002AE3D551B20>\n",
      "\n",
      "First 5 rows are:\n",
      "\n",
      "['31...40' '<=30' '>40']\n",
      "{'31...40': 0, '<=30': 1, '>40': 2}\n",
      "['high' 'low' 'medium']\n",
      "{'31...40': 0, '<=30': 1, '>40': 2, 'high': 0, 'low': 1, 'medium': 2}\n",
      "['no' 'yes']\n",
      "{'31...40': 0, '<=30': 1, '>40': 2, 'high': 0, 'low': 1, 'medium': 2, 'no': 0, 'yes': 1}\n",
      "['excellent' 'fair']\n",
      "{'31...40': 0, '<=30': 1, '>40': 2, 'high': 0, 'low': 1, 'medium': 2, 'no': 0, 'yes': 1, 'excellent': 0, 'fair': 1}\n",
      "['no' 'yes']\n",
      "{'31...40': 0, '<=30': 1, '>40': 2, 'high': 0, 'low': 1, 'medium': 2, 'no': 0, 'yes': 1, 'excellent': 0, 'fair': 1}\n"
     ]
    },
    {
     "data": {
      "text/plain": [
       "['age', 'income', 'student', 'credit rating', 'computer']"
      ]
     },
     "execution_count": 4,
     "metadata": {},
     "output_type": "execute_result"
    }
   ],
   "source": [
    "# importing csv module\n",
    "import csv\n",
    "\n",
    "# csv file name\n",
    "filename = \"naive_bayes_test.csv\"\n",
    "\n",
    "# initializing the titles and rows list\n",
    "fields = []\n",
    "rows = []\n",
    "\n",
    "# reading csv file\n",
    "with open(filename, 'r') as csvfile:\n",
    "\t# creating a csv reader object\n",
    "\tcsvreader = csv.reader(csvfile)\n",
    "\tprint(csvreader)\n",
    "\t# extracting field names through first row\n",
    "\tfields = next(csvreader)\n",
    "\n",
    "\t# extracting each data row one by one\n",
    "\tfor row in csvreader:\n",
    "\t\trows.append(row)\n",
    "\n",
    "# \t# get total number of rows\n",
    "# \tprint(\"Total no. of rows: %d\"%(csvreader.line_num))\n",
    "\n",
    "# printing the field names\n",
    "# print('Field names are:' + ', '.join(field for field in fields))\n",
    "\n",
    "# printing first 5 rows\n",
    "print('\\nFirst 5 rows are:\\n')\n",
    "columns = []\n",
    "dictionary = {}\n",
    "counter = 0\n",
    "for column in rows[0]:\n",
    "    columns = list(columns)\n",
    "    for row in rows:\n",
    "\t# parsing each column of a row\n",
    "        columns.append(row[counter])\n",
    "# \t\tprint(\"%10s\"%col,end=\" \")\n",
    "    \n",
    "    columns = numpy.array(columns)\n",
    "    columns = numpy.unique(columns)\n",
    "    # Here we construct our dictionary\n",
    "    print(columns)\n",
    "    iterator = 0\n",
    "    for value in columns:\n",
    "        dictionary[value] = iterator\n",
    "        iterator = iterator + 1 \n",
    "    print(dictionary)\n",
    "    columns = []\n",
    "    counter = counter + 1    \n",
    "\n",
    "fields"
   ]
  },
  {
   "cell_type": "code",
   "execution_count": 5,
   "id": "b368ecaf",
   "metadata": {},
   "outputs": [
    {
     "data": {
      "text/plain": [
       "[[1, 0, 0, 1, 0],\n",
       " [1, 0, 0, 0, 0],\n",
       " [0, 0, 0, 1, 1],\n",
       " [2, 2, 0, 1, 1],\n",
       " [2, 1, 1, 1, 1],\n",
       " [2, 1, 1, 0, 0],\n",
       " [0, 1, 1, 0, 1],\n",
       " [1, 2, 0, 1, 0],\n",
       " [1, 1, 1, 1, 1],\n",
       " [2, 2, 1, 1, 1],\n",
       " [1, 2, 1, 0, 1],\n",
       " [0, 2, 0, 0, 1],\n",
       " [0, 0, 1, 1, 1],\n",
       " [2, 2, 0, 0, 0]]"
      ]
     },
     "execution_count": 5,
     "metadata": {},
     "output_type": "execute_result"
    }
   ],
   "source": [
    "dataset=[]\n",
    "for row in rows:\n",
    "    one_entry = []\n",
    "    for value in row:\n",
    "        one_entry.append(dictionary[value])\n",
    "    dataset.append(one_entry)\n",
    "dataset"
   ]
  },
  {
   "cell_type": "code",
   "execution_count": 12,
   "id": "99a64042",
   "metadata": {
    "scrolled": true
   },
   "outputs": [
    {
     "name": "stdout",
     "output_type": "stream",
     "text": [
      "{'31...40': 0, '<=30': 1, '>40': 2, 'high': 0, 'low': 1, 'medium': 2, 'no': 0, 'yes': 1, 'excellent': 0, 'fair': 1}\n",
      "0\n",
      "[1, 0, 0, 1, 0]\n",
      "[1, 0, 0, 0, 0]\n",
      "[2, 1, 1, 0, 0]\n",
      "[1, 2, 0, 1, 0]\n",
      "[2, 2, 0, 0, 0]\n",
      "1\n",
      "[0, 0, 0, 1, 1]\n",
      "[2, 2, 0, 1, 1]\n",
      "[2, 1, 1, 1, 1]\n",
      "[0, 1, 1, 0, 1]\n",
      "[1, 1, 1, 1, 1]\n",
      "[2, 2, 1, 1, 1]\n",
      "[1, 2, 1, 0, 1]\n",
      "[0, 2, 0, 0, 1]\n",
      "[0, 0, 1, 1, 1]\n",
      "Total 0: 5 / 14\n",
      "for feature age\n",
      "3 / 5\n",
      "for feature income\n",
      "2 / 5\n",
      "for feature student\n",
      "1 / 5\n",
      "for feature credit rating\n",
      "2 / 5\n",
      "Total 1: 9 / 14\n",
      "for feature age\n",
      "2 / 9\n",
      "for feature income\n",
      "4 / 9\n",
      "for feature student\n",
      "6 / 9\n",
      "for feature credit rating\n",
      "6 / 9\n",
      "Probability of playing golf: 80.45052292839902%\n"
     ]
    }
   ],
   "source": [
    "print(dictionary)\n",
    "mp = dict()\n",
    "for i in range(len(dataset)):\n",
    "    row = dataset[i]\n",
    "    y = row[-1]\n",
    "    if (y not in mp):\n",
    "        mp[y] = list()\n",
    "    mp[y].append(row)\n",
    "\n",
    "for label in mp:\n",
    "    print(label)\n",
    "    for row in mp[label]:\n",
    "        print(row)\n",
    "results=[]\n",
    "test = [1 ,2 , 1 ,1 ]\n",
    "for value in mp:\n",
    "    probYes = 1\n",
    "    yes = value\n",
    "    count = 0\n",
    "    total = 0\n",
    "    for row in dataset:\n",
    "        if(row[-1] == yes):\n",
    "            count+=1\n",
    "        total+=1\n",
    "    print(\"Total \" + str(value) +\": \"+str(count)+\" / \"+str(total))\n",
    "    probYes *= count/total\n",
    "    for i in range(len(test)):\n",
    "        count = 0\n",
    "        total = 0\n",
    "        for row in mp[value]:\n",
    "            if(test[i] == row[i]):\n",
    "                count += 1\n",
    "            total += 1\n",
    "        print('for feature '+fields[i])\n",
    "        print(str(count)+\" / \"+str(total))\n",
    "        probYes *= count/total\n",
    "    results.append(probYes)\n",
    "max=0\n",
    "for i in results:\n",
    "    if (i/sum(results) > max):\n",
    "        max=i/sum(results)\n",
    "\n",
    "print(\"Probability of playing golf: \"+str(max*100)+\"%\")"
   ]
  }
 ],
 "metadata": {
  "kernelspec": {
   "display_name": "Python 3 (ipykernel)",
   "language": "python",
   "name": "python3"
  },
  "language_info": {
   "codemirror_mode": {
    "name": "ipython",
    "version": 3
   },
   "file_extension": ".py",
   "mimetype": "text/x-python",
   "name": "python",
   "nbconvert_exporter": "python",
   "pygments_lexer": "ipython3",
   "version": "3.9.13"
  }
 },
 "nbformat": 4,
 "nbformat_minor": 5
}
